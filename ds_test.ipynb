{
 "cells": [
  {
   "cell_type": "code",
   "execution_count": 1,
   "metadata": {},
   "outputs": [],
   "source": [
    "import pandas as pd\n",
    "import numpy as np\n",
    "import matplotlib.pyplot as plt\n",
    "import openpyxl\n",
    "import speedml\n",
    "import math\n",
    "\n",
    "from sklearn import preprocessing\n",
    "plt.rc(\"font\", size=14)\n",
    "from sklearn.linear_model import LogisticRegression\n",
    "from sklearn.model_selection import train_test_split\n",
    "from sklearn.feature_selection import RFE\n",
    "from sklearn.linear_model import LogisticRegression\n",
    "from sklearn.metrics import confusion_matrix\n",
    "from sklearn.metrics import roc_auc_score\n",
    "from sklearn.metrics import roc_curve\n",
    "from sklearn import metrics\n",
    "from sklearn.metrics import classification_report\n",
    "\n",
    "from imblearn.over_sampling import SMOTE\n",
    "\n",
    "import warnings\n",
    "warnings.simplefilter('ignore')\n",
    "\n",
    "import seaborn as sns\n",
    "sns.set(style=\"white\")\n",
    "sns.set(style=\"whitegrid\", color_codes=True)"
   ]
  },
  {
   "cell_type": "code",
   "execution_count": 2,
   "metadata": {},
   "outputs": [],
   "source": [
    "pd.set_option('display.max_columns', 100)\n",
    "pd.set_option('display.max_rows', 1000)"
   ]
  },
  {
   "cell_type": "markdown",
   "metadata": {},
   "source": [
    "### Load Dataset"
   ]
  },
  {
   "cell_type": "code",
   "execution_count": 3,
   "metadata": {},
   "outputs": [],
   "source": [
    "df = pd.read_csv('TestData_v2.csv')"
   ]
  },
  {
   "cell_type": "code",
   "execution_count": 4,
   "metadata": {},
   "outputs": [
    {
     "name": "stdout",
     "output_type": "stream",
     "text": [
      "<class 'pandas.core.frame.DataFrame'>\n",
      "RangeIndex: 1994 entries, 0 to 1993\n",
      "Data columns (total 56 columns):\n",
      "Unnamed: 0                1994 non-null int64\n",
      "Height                    191 non-null float64\n",
      "Weight                    188 non-null float64\n",
      "BMI                       169 non-null float64\n",
      "AbdominalCircumference    127 non-null float64\n",
      "FourKHz                   244 non-null object\n",
      "OneKHz                    260 non-null object\n",
      "VitalCapacity             57 non-null float64\n",
      "BloodPressureSecond       91 non-null float64\n",
      "BloodPressureFirst        116 non-null float64\n",
      "UrineProtein              141 non-null object\n",
      "UrineSugar                116 non-null object\n",
      "Urobilinogen              125 non-null object\n",
      "OccultBlood               244 non-null object\n",
      "Ketones                   62 non-null object\n",
      "UrinePH                   133 non-null float64\n",
      "Leukocyte                 91 non-null float64\n",
      "RedBloodCells             195 non-null float64\n",
      "Hemoglobin                208 non-null float64\n",
      "Hematocrit                199 non-null float64\n",
      "MCV                       138 non-null float64\n",
      "MCH                       159 non-null float64\n",
      "MCHC                      158 non-null float64\n",
      "platelet                  159 non-null float64\n",
      "GOT                       401 non-null float64\n",
      "albumin                   103 non-null float64\n",
      "GPT                       321 non-null float64\n",
      "GammaGPT                  360 non-null float64\n",
      "LDH                       91 non-null float64\n",
      "ALP                       143 non-null float64\n",
      "Bilirubin                 139 non-null float64\n",
      "UreaNitrogen              59 non-null float64\n",
      "creatinine                229 non-null float64\n",
      "eGFR                      95 non-null float64\n",
      "HDL                       281 non-null float64\n",
      "NeutralFat                207 non-null float64\n",
      "LDL                       248 non-null float64\n",
      "TotalProtein              76 non-null float64\n",
      "AGRatio                   56 non-null float64\n",
      "Amylase                   61 non-null float64\n",
      "UricAcid                  165 non-null float64\n",
      "HBAntigen                 118 non-null object\n",
      "TPHA                      76 non-null object\n",
      "CRP                       69 non-null float64\n",
      "HCVAntibody               137 non-null object\n",
      "HbA1c                     130 non-null float64\n",
      "BloodSugar                145 non-null float64\n",
      "FastingBloodSugar         85 non-null float64\n",
      "bodyFatPercentage         59 non-null float64\n",
      "Lym                       77 non-null float64\n",
      "TTT                       51 non-null float64\n",
      "RightEyeCorrection        93 non-null float64\n",
      "Prostate                  108 non-null float64\n",
      "LeftEyeCorrection         94 non-null float64\n",
      "PatientID                 997 non-null float64\n",
      " Label                    997 non-null object\n",
      "dtypes: float64(44), int64(1), object(11)\n",
      "memory usage: 872.5+ KB\n"
     ]
    }
   ],
   "source": [
    "df.info()"
   ]
  },
  {
   "cell_type": "code",
   "execution_count": 5,
   "metadata": {},
   "outputs": [
    {
     "data": {
      "text/html": [
       "<div>\n",
       "<style scoped>\n",
       "    .dataframe tbody tr th:only-of-type {\n",
       "        vertical-align: middle;\n",
       "    }\n",
       "\n",
       "    .dataframe tbody tr th {\n",
       "        vertical-align: top;\n",
       "    }\n",
       "\n",
       "    .dataframe thead th {\n",
       "        text-align: right;\n",
       "    }\n",
       "</style>\n",
       "<table border=\"1\" class=\"dataframe\">\n",
       "  <thead>\n",
       "    <tr style=\"text-align: right;\">\n",
       "      <th></th>\n",
       "      <th>Unnamed: 0</th>\n",
       "      <th>Height</th>\n",
       "      <th>Weight</th>\n",
       "      <th>BMI</th>\n",
       "      <th>AbdominalCircumference</th>\n",
       "      <th>VitalCapacity</th>\n",
       "      <th>BloodPressureSecond</th>\n",
       "      <th>BloodPressureFirst</th>\n",
       "      <th>UrinePH</th>\n",
       "      <th>Leukocyte</th>\n",
       "      <th>RedBloodCells</th>\n",
       "      <th>Hemoglobin</th>\n",
       "      <th>Hematocrit</th>\n",
       "      <th>MCV</th>\n",
       "      <th>MCH</th>\n",
       "      <th>MCHC</th>\n",
       "      <th>platelet</th>\n",
       "      <th>GOT</th>\n",
       "      <th>albumin</th>\n",
       "      <th>GPT</th>\n",
       "      <th>GammaGPT</th>\n",
       "      <th>LDH</th>\n",
       "      <th>ALP</th>\n",
       "      <th>Bilirubin</th>\n",
       "      <th>UreaNitrogen</th>\n",
       "      <th>creatinine</th>\n",
       "      <th>eGFR</th>\n",
       "      <th>HDL</th>\n",
       "      <th>NeutralFat</th>\n",
       "      <th>LDL</th>\n",
       "      <th>TotalProtein</th>\n",
       "      <th>AGRatio</th>\n",
       "      <th>Amylase</th>\n",
       "      <th>UricAcid</th>\n",
       "      <th>CRP</th>\n",
       "      <th>HbA1c</th>\n",
       "      <th>BloodSugar</th>\n",
       "      <th>FastingBloodSugar</th>\n",
       "      <th>bodyFatPercentage</th>\n",
       "      <th>Lym</th>\n",
       "      <th>TTT</th>\n",
       "      <th>RightEyeCorrection</th>\n",
       "      <th>Prostate</th>\n",
       "      <th>LeftEyeCorrection</th>\n",
       "      <th>PatientID</th>\n",
       "    </tr>\n",
       "  </thead>\n",
       "  <tbody>\n",
       "    <tr>\n",
       "      <td>count</td>\n",
       "      <td>1994.000000</td>\n",
       "      <td>191.000000</td>\n",
       "      <td>188.000000</td>\n",
       "      <td>169.000000</td>\n",
       "      <td>127.000000</td>\n",
       "      <td>57.000000</td>\n",
       "      <td>91.000000</td>\n",
       "      <td>116.000000</td>\n",
       "      <td>133.000000</td>\n",
       "      <td>91.000000</td>\n",
       "      <td>195.000000</td>\n",
       "      <td>208.000000</td>\n",
       "      <td>199.000000</td>\n",
       "      <td>138.000000</td>\n",
       "      <td>159.000000</td>\n",
       "      <td>158.000000</td>\n",
       "      <td>159.000000</td>\n",
       "      <td>401.000000</td>\n",
       "      <td>103.000000</td>\n",
       "      <td>321.000000</td>\n",
       "      <td>360.000000</td>\n",
       "      <td>91.000000</td>\n",
       "      <td>143.000000</td>\n",
       "      <td>139.000000</td>\n",
       "      <td>59.000000</td>\n",
       "      <td>229.000000</td>\n",
       "      <td>95.000000</td>\n",
       "      <td>281.000000</td>\n",
       "      <td>207.000000</td>\n",
       "      <td>248.000000</td>\n",
       "      <td>76.000000</td>\n",
       "      <td>56.000000</td>\n",
       "      <td>61.000000</td>\n",
       "      <td>165.000000</td>\n",
       "      <td>69.000000</td>\n",
       "      <td>130.000000</td>\n",
       "      <td>145.000000</td>\n",
       "      <td>85.000000</td>\n",
       "      <td>59.000000</td>\n",
       "      <td>77.000000</td>\n",
       "      <td>51.000000</td>\n",
       "      <td>93.000000</td>\n",
       "      <td>108.000000</td>\n",
       "      <td>94.000000</td>\n",
       "      <td>9.970000e+02</td>\n",
       "    </tr>\n",
       "    <tr>\n",
       "      <td>mean</td>\n",
       "      <td>996.500000</td>\n",
       "      <td>169.454450</td>\n",
       "      <td>73.289617</td>\n",
       "      <td>24.951006</td>\n",
       "      <td>83.620551</td>\n",
       "      <td>3.159123</td>\n",
       "      <td>77.084615</td>\n",
       "      <td>112.159483</td>\n",
       "      <td>5.385602</td>\n",
       "      <td>6003.021978</td>\n",
       "      <td>437.353846</td>\n",
       "      <td>13.080865</td>\n",
       "      <td>43.772362</td>\n",
       "      <td>92.300725</td>\n",
       "      <td>31.862453</td>\n",
       "      <td>32.899873</td>\n",
       "      <td>27.563711</td>\n",
       "      <td>22.121653</td>\n",
       "      <td>12.098447</td>\n",
       "      <td>24.928956</td>\n",
       "      <td>37.244112</td>\n",
       "      <td>185.705604</td>\n",
       "      <td>210.420280</td>\n",
       "      <td>1.111168</td>\n",
       "      <td>13.705085</td>\n",
       "      <td>0.878421</td>\n",
       "      <td>76.951684</td>\n",
       "      <td>65.876584</td>\n",
       "      <td>116.811594</td>\n",
       "      <td>114.972738</td>\n",
       "      <td>6.941316</td>\n",
       "      <td>1.666964</td>\n",
       "      <td>67.704918</td>\n",
       "      <td>4.717455</td>\n",
       "      <td>0.154797</td>\n",
       "      <td>5.523846</td>\n",
       "      <td>99.162759</td>\n",
       "      <td>98.524706</td>\n",
       "      <td>20.091695</td>\n",
       "      <td>24.645455</td>\n",
       "      <td>3.056863</td>\n",
       "      <td>2.026882</td>\n",
       "      <td>1.069843</td>\n",
       "      <td>2.186170</td>\n",
       "      <td>4.018053e+06</td>\n",
       "    </tr>\n",
       "    <tr>\n",
       "      <td>std</td>\n",
       "      <td>575.762538</td>\n",
       "      <td>8.505043</td>\n",
       "      <td>46.492055</td>\n",
       "      <td>6.897452</td>\n",
       "      <td>16.046830</td>\n",
       "      <td>1.989713</td>\n",
       "      <td>16.895245</td>\n",
       "      <td>29.162597</td>\n",
       "      <td>2.156957</td>\n",
       "      <td>2791.484862</td>\n",
       "      <td>169.228763</td>\n",
       "      <td>4.338348</td>\n",
       "      <td>6.029684</td>\n",
       "      <td>16.551911</td>\n",
       "      <td>9.172809</td>\n",
       "      <td>6.441854</td>\n",
       "      <td>15.700692</td>\n",
       "      <td>15.599028</td>\n",
       "      <td>19.920741</td>\n",
       "      <td>15.762314</td>\n",
       "      <td>31.149123</td>\n",
       "      <td>59.873190</td>\n",
       "      <td>75.310282</td>\n",
       "      <td>0.866502</td>\n",
       "      <td>5.573318</td>\n",
       "      <td>0.358824</td>\n",
       "      <td>14.230130</td>\n",
       "      <td>30.962630</td>\n",
       "      <td>74.589767</td>\n",
       "      <td>38.810800</td>\n",
       "      <td>1.187812</td>\n",
       "      <td>0.708955</td>\n",
       "      <td>26.647291</td>\n",
       "      <td>2.798277</td>\n",
       "      <td>0.159749</td>\n",
       "      <td>1.264905</td>\n",
       "      <td>30.477681</td>\n",
       "      <td>25.262375</td>\n",
       "      <td>8.998808</td>\n",
       "      <td>14.492244</td>\n",
       "      <td>2.241183</td>\n",
       "      <td>2.277114</td>\n",
       "      <td>0.691358</td>\n",
       "      <td>2.867939</td>\n",
       "      <td>1.521438e+04</td>\n",
       "    </tr>\n",
       "    <tr>\n",
       "      <td>min</td>\n",
       "      <td>0.000000</td>\n",
       "      <td>119.000000</td>\n",
       "      <td>20.000000</td>\n",
       "      <td>13.500000</td>\n",
       "      <td>35.000000</td>\n",
       "      <td>1.000000</td>\n",
       "      <td>21.000000</td>\n",
       "      <td>33.000000</td>\n",
       "      <td>1.100000</td>\n",
       "      <td>100.000000</td>\n",
       "      <td>52.000000</td>\n",
       "      <td>4.700000</td>\n",
       "      <td>26.400000</td>\n",
       "      <td>21.000000</td>\n",
       "      <td>12.000000</td>\n",
       "      <td>11.100000</td>\n",
       "      <td>10.400000</td>\n",
       "      <td>1.000000</td>\n",
       "      <td>1.000000</td>\n",
       "      <td>3.000000</td>\n",
       "      <td>1.000000</td>\n",
       "      <td>31.000000</td>\n",
       "      <td>21.000000</td>\n",
       "      <td>0.200000</td>\n",
       "      <td>3.000000</td>\n",
       "      <td>0.020000</td>\n",
       "      <td>50.300000</td>\n",
       "      <td>21.000000</td>\n",
       "      <td>23.000000</td>\n",
       "      <td>37.000000</td>\n",
       "      <td>3.000000</td>\n",
       "      <td>0.550000</td>\n",
       "      <td>11.000000</td>\n",
       "      <td>1.000000</td>\n",
       "      <td>0.010000</td>\n",
       "      <td>1.990000</td>\n",
       "      <td>30.000000</td>\n",
       "      <td>28.000000</td>\n",
       "      <td>3.000000</td>\n",
       "      <td>8.100000</td>\n",
       "      <td>1.000000</td>\n",
       "      <td>0.100000</td>\n",
       "      <td>0.005000</td>\n",
       "      <td>0.100000</td>\n",
       "      <td>3.956543e+06</td>\n",
       "    </tr>\n",
       "    <tr>\n",
       "      <td>25%</td>\n",
       "      <td>498.250000</td>\n",
       "      <td>164.600000</td>\n",
       "      <td>57.375000</td>\n",
       "      <td>21.500000</td>\n",
       "      <td>81.000000</td>\n",
       "      <td>1.000000</td>\n",
       "      <td>69.000000</td>\n",
       "      <td>100.750000</td>\n",
       "      <td>4.000000</td>\n",
       "      <td>4845.000000</td>\n",
       "      <td>435.000000</td>\n",
       "      <td>11.425000</td>\n",
       "      <td>40.200000</td>\n",
       "      <td>87.550000</td>\n",
       "      <td>29.000000</td>\n",
       "      <td>31.525000</td>\n",
       "      <td>19.050000</td>\n",
       "      <td>10.000000</td>\n",
       "      <td>4.000000</td>\n",
       "      <td>13.000000</td>\n",
       "      <td>15.000000</td>\n",
       "      <td>157.500000</td>\n",
       "      <td>160.000000</td>\n",
       "      <td>0.615000</td>\n",
       "      <td>10.000000</td>\n",
       "      <td>0.700000</td>\n",
       "      <td>66.450000</td>\n",
       "      <td>45.000000</td>\n",
       "      <td>60.500000</td>\n",
       "      <td>86.750000</td>\n",
       "      <td>6.700000</td>\n",
       "      <td>1.075000</td>\n",
       "      <td>49.000000</td>\n",
       "      <td>1.000000</td>\n",
       "      <td>0.040000</td>\n",
       "      <td>5.000000</td>\n",
       "      <td>86.000000</td>\n",
       "      <td>87.600000</td>\n",
       "      <td>14.950000</td>\n",
       "      <td>11.000000</td>\n",
       "      <td>1.000000</td>\n",
       "      <td>0.900000</td>\n",
       "      <td>0.619750</td>\n",
       "      <td>0.700000</td>\n",
       "      <td>4.012759e+06</td>\n",
       "    </tr>\n",
       "    <tr>\n",
       "      <td>50%</td>\n",
       "      <td>996.500000</td>\n",
       "      <td>169.800000</td>\n",
       "      <td>64.950000</td>\n",
       "      <td>24.100000</td>\n",
       "      <td>84.900000</td>\n",
       "      <td>3.500000</td>\n",
       "      <td>80.000000</td>\n",
       "      <td>121.000000</td>\n",
       "      <td>5.000000</td>\n",
       "      <td>6100.000000</td>\n",
       "      <td>479.000000</td>\n",
       "      <td>13.800000</td>\n",
       "      <td>44.400000</td>\n",
       "      <td>91.000000</td>\n",
       "      <td>31.100000</td>\n",
       "      <td>33.000000</td>\n",
       "      <td>24.600000</td>\n",
       "      <td>21.000000</td>\n",
       "      <td>4.400000</td>\n",
       "      <td>21.000000</td>\n",
       "      <td>28.500000</td>\n",
       "      <td>177.000000</td>\n",
       "      <td>206.000000</td>\n",
       "      <td>1.000000</td>\n",
       "      <td>13.700000</td>\n",
       "      <td>0.830000</td>\n",
       "      <td>77.000000</td>\n",
       "      <td>57.000000</td>\n",
       "      <td>101.000000</td>\n",
       "      <td>116.500000</td>\n",
       "      <td>7.100000</td>\n",
       "      <td>1.600000</td>\n",
       "      <td>64.000000</td>\n",
       "      <td>5.400000</td>\n",
       "      <td>0.100000</td>\n",
       "      <td>5.400000</td>\n",
       "      <td>93.000000</td>\n",
       "      <td>96.000000</td>\n",
       "      <td>20.800000</td>\n",
       "      <td>20.600000</td>\n",
       "      <td>2.500000</td>\n",
       "      <td>1.000000</td>\n",
       "      <td>1.000000</td>\n",
       "      <td>1.000000</td>\n",
       "      <td>4.015578e+06</td>\n",
       "    </tr>\n",
       "    <tr>\n",
       "      <td>75%</td>\n",
       "      <td>1494.750000</td>\n",
       "      <td>174.600000</td>\n",
       "      <td>75.050000</td>\n",
       "      <td>26.000000</td>\n",
       "      <td>85.255000</td>\n",
       "      <td>4.220000</td>\n",
       "      <td>84.000000</td>\n",
       "      <td>130.000000</td>\n",
       "      <td>6.000000</td>\n",
       "      <td>7235.000000</td>\n",
       "      <td>521.500000</td>\n",
       "      <td>15.200000</td>\n",
       "      <td>46.600000</td>\n",
       "      <td>95.000000</td>\n",
       "      <td>32.850000</td>\n",
       "      <td>34.000000</td>\n",
       "      <td>30.150000</td>\n",
       "      <td>30.000000</td>\n",
       "      <td>4.900000</td>\n",
       "      <td>31.000000</td>\n",
       "      <td>50.000000</td>\n",
       "      <td>208.500000</td>\n",
       "      <td>262.500000</td>\n",
       "      <td>1.100000</td>\n",
       "      <td>17.000000</td>\n",
       "      <td>1.000000</td>\n",
       "      <td>86.350000</td>\n",
       "      <td>75.000000</td>\n",
       "      <td>151.000000</td>\n",
       "      <td>135.000000</td>\n",
       "      <td>7.425000</td>\n",
       "      <td>1.892500</td>\n",
       "      <td>79.000000</td>\n",
       "      <td>6.600000</td>\n",
       "      <td>0.210000</td>\n",
       "      <td>5.800000</td>\n",
       "      <td>102.000000</td>\n",
       "      <td>102.000000</td>\n",
       "      <td>26.400000</td>\n",
       "      <td>36.100000</td>\n",
       "      <td>4.000000</td>\n",
       "      <td>2.000000</td>\n",
       "      <td>1.047500</td>\n",
       "      <td>1.875000</td>\n",
       "      <td>4.032453e+06</td>\n",
       "    </tr>\n",
       "    <tr>\n",
       "      <td>max</td>\n",
       "      <td>1993.000000</td>\n",
       "      <td>190.000000</td>\n",
       "      <td>480.000000</td>\n",
       "      <td>58.000000</td>\n",
       "      <td>185.000000</td>\n",
       "      <td>8.000000</td>\n",
       "      <td>147.000000</td>\n",
       "      <td>174.000000</td>\n",
       "      <td>15.000000</td>\n",
       "      <td>18370.000000</td>\n",
       "      <td>1422.000000</td>\n",
       "      <td>33.900000</td>\n",
       "      <td>81.000000</td>\n",
       "      <td>219.000000</td>\n",
       "      <td>101.000000</td>\n",
       "      <td>94.000000</td>\n",
       "      <td>85.000000</td>\n",
       "      <td>97.000000</td>\n",
       "      <td>96.000000</td>\n",
       "      <td>80.000000</td>\n",
       "      <td>149.000000</td>\n",
       "      <td>559.000000</td>\n",
       "      <td>397.000000</td>\n",
       "      <td>5.000000</td>\n",
       "      <td>32.100000</td>\n",
       "      <td>3.000000</td>\n",
       "      <td>111.110000</td>\n",
       "      <td>193.000000</td>\n",
       "      <td>389.000000</td>\n",
       "      <td>254.000000</td>\n",
       "      <td>11.000000</td>\n",
       "      <td>4.000000</td>\n",
       "      <td>134.000000</td>\n",
       "      <td>15.500000</td>\n",
       "      <td>0.700000</td>\n",
       "      <td>10.000000</td>\n",
       "      <td>336.000000</td>\n",
       "      <td>184.000000</td>\n",
       "      <td>53.000000</td>\n",
       "      <td>71.000000</td>\n",
       "      <td>11.000000</td>\n",
       "      <td>13.000000</td>\n",
       "      <td>3.000000</td>\n",
       "      <td>12.000000</td>\n",
       "      <td>4.037800e+06</td>\n",
       "    </tr>\n",
       "  </tbody>\n",
       "</table>\n",
       "</div>"
      ],
      "text/plain": [
       "        Unnamed: 0      Height      Weight         BMI  \\\n",
       "count  1994.000000  191.000000  188.000000  169.000000   \n",
       "mean    996.500000  169.454450   73.289617   24.951006   \n",
       "std     575.762538    8.505043   46.492055    6.897452   \n",
       "min       0.000000  119.000000   20.000000   13.500000   \n",
       "25%     498.250000  164.600000   57.375000   21.500000   \n",
       "50%     996.500000  169.800000   64.950000   24.100000   \n",
       "75%    1494.750000  174.600000   75.050000   26.000000   \n",
       "max    1993.000000  190.000000  480.000000   58.000000   \n",
       "\n",
       "       AbdominalCircumference  VitalCapacity  BloodPressureSecond  \\\n",
       "count              127.000000      57.000000            91.000000   \n",
       "mean                83.620551       3.159123            77.084615   \n",
       "std                 16.046830       1.989713            16.895245   \n",
       "min                 35.000000       1.000000            21.000000   \n",
       "25%                 81.000000       1.000000            69.000000   \n",
       "50%                 84.900000       3.500000            80.000000   \n",
       "75%                 85.255000       4.220000            84.000000   \n",
       "max                185.000000       8.000000           147.000000   \n",
       "\n",
       "       BloodPressureFirst     UrinePH     Leukocyte  RedBloodCells  \\\n",
       "count          116.000000  133.000000     91.000000     195.000000   \n",
       "mean           112.159483    5.385602   6003.021978     437.353846   \n",
       "std             29.162597    2.156957   2791.484862     169.228763   \n",
       "min             33.000000    1.100000    100.000000      52.000000   \n",
       "25%            100.750000    4.000000   4845.000000     435.000000   \n",
       "50%            121.000000    5.000000   6100.000000     479.000000   \n",
       "75%            130.000000    6.000000   7235.000000     521.500000   \n",
       "max            174.000000   15.000000  18370.000000    1422.000000   \n",
       "\n",
       "       Hemoglobin  Hematocrit         MCV         MCH        MCHC    platelet  \\\n",
       "count  208.000000  199.000000  138.000000  159.000000  158.000000  159.000000   \n",
       "mean    13.080865   43.772362   92.300725   31.862453   32.899873   27.563711   \n",
       "std      4.338348    6.029684   16.551911    9.172809    6.441854   15.700692   \n",
       "min      4.700000   26.400000   21.000000   12.000000   11.100000   10.400000   \n",
       "25%     11.425000   40.200000   87.550000   29.000000   31.525000   19.050000   \n",
       "50%     13.800000   44.400000   91.000000   31.100000   33.000000   24.600000   \n",
       "75%     15.200000   46.600000   95.000000   32.850000   34.000000   30.150000   \n",
       "max     33.900000   81.000000  219.000000  101.000000   94.000000   85.000000   \n",
       "\n",
       "              GOT     albumin         GPT    GammaGPT         LDH         ALP  \\\n",
       "count  401.000000  103.000000  321.000000  360.000000   91.000000  143.000000   \n",
       "mean    22.121653   12.098447   24.928956   37.244112  185.705604  210.420280   \n",
       "std     15.599028   19.920741   15.762314   31.149123   59.873190   75.310282   \n",
       "min      1.000000    1.000000    3.000000    1.000000   31.000000   21.000000   \n",
       "25%     10.000000    4.000000   13.000000   15.000000  157.500000  160.000000   \n",
       "50%     21.000000    4.400000   21.000000   28.500000  177.000000  206.000000   \n",
       "75%     30.000000    4.900000   31.000000   50.000000  208.500000  262.500000   \n",
       "max     97.000000   96.000000   80.000000  149.000000  559.000000  397.000000   \n",
       "\n",
       "        Bilirubin  UreaNitrogen  creatinine        eGFR         HDL  \\\n",
       "count  139.000000     59.000000  229.000000   95.000000  281.000000   \n",
       "mean     1.111168     13.705085    0.878421   76.951684   65.876584   \n",
       "std      0.866502      5.573318    0.358824   14.230130   30.962630   \n",
       "min      0.200000      3.000000    0.020000   50.300000   21.000000   \n",
       "25%      0.615000     10.000000    0.700000   66.450000   45.000000   \n",
       "50%      1.000000     13.700000    0.830000   77.000000   57.000000   \n",
       "75%      1.100000     17.000000    1.000000   86.350000   75.000000   \n",
       "max      5.000000     32.100000    3.000000  111.110000  193.000000   \n",
       "\n",
       "       NeutralFat         LDL  TotalProtein    AGRatio     Amylase  \\\n",
       "count  207.000000  248.000000     76.000000  56.000000   61.000000   \n",
       "mean   116.811594  114.972738      6.941316   1.666964   67.704918   \n",
       "std     74.589767   38.810800      1.187812   0.708955   26.647291   \n",
       "min     23.000000   37.000000      3.000000   0.550000   11.000000   \n",
       "25%     60.500000   86.750000      6.700000   1.075000   49.000000   \n",
       "50%    101.000000  116.500000      7.100000   1.600000   64.000000   \n",
       "75%    151.000000  135.000000      7.425000   1.892500   79.000000   \n",
       "max    389.000000  254.000000     11.000000   4.000000  134.000000   \n",
       "\n",
       "         UricAcid        CRP       HbA1c  BloodSugar  FastingBloodSugar  \\\n",
       "count  165.000000  69.000000  130.000000  145.000000          85.000000   \n",
       "mean     4.717455   0.154797    5.523846   99.162759          98.524706   \n",
       "std      2.798277   0.159749    1.264905   30.477681          25.262375   \n",
       "min      1.000000   0.010000    1.990000   30.000000          28.000000   \n",
       "25%      1.000000   0.040000    5.000000   86.000000          87.600000   \n",
       "50%      5.400000   0.100000    5.400000   93.000000          96.000000   \n",
       "75%      6.600000   0.210000    5.800000  102.000000         102.000000   \n",
       "max     15.500000   0.700000   10.000000  336.000000         184.000000   \n",
       "\n",
       "       bodyFatPercentage        Lym        TTT  RightEyeCorrection  \\\n",
       "count          59.000000  77.000000  51.000000           93.000000   \n",
       "mean           20.091695  24.645455   3.056863            2.026882   \n",
       "std             8.998808  14.492244   2.241183            2.277114   \n",
       "min             3.000000   8.100000   1.000000            0.100000   \n",
       "25%            14.950000  11.000000   1.000000            0.900000   \n",
       "50%            20.800000  20.600000   2.500000            1.000000   \n",
       "75%            26.400000  36.100000   4.000000            2.000000   \n",
       "max            53.000000  71.000000  11.000000           13.000000   \n",
       "\n",
       "         Prostate  LeftEyeCorrection     PatientID  \n",
       "count  108.000000          94.000000  9.970000e+02  \n",
       "mean     1.069843           2.186170  4.018053e+06  \n",
       "std      0.691358           2.867939  1.521438e+04  \n",
       "min      0.005000           0.100000  3.956543e+06  \n",
       "25%      0.619750           0.700000  4.012759e+06  \n",
       "50%      1.000000           1.000000  4.015578e+06  \n",
       "75%      1.047500           1.875000  4.032453e+06  \n",
       "max      3.000000          12.000000  4.037800e+06  "
      ]
     },
     "execution_count": 5,
     "metadata": {},
     "output_type": "execute_result"
    }
   ],
   "source": [
    "df.describe()"
   ]
  },
  {
   "cell_type": "code",
   "execution_count": 6,
   "metadata": {},
   "outputs": [
    {
     "data": {
      "text/plain": [
       "Index(['Unnamed: 0', 'Height', 'Weight', 'BMI', 'AbdominalCircumference',\n",
       "       'FourKHz', 'OneKHz', 'VitalCapacity', 'BloodPressureSecond',\n",
       "       'BloodPressureFirst', 'UrineProtein', 'UrineSugar', 'Urobilinogen',\n",
       "       'OccultBlood', 'Ketones', 'UrinePH', 'Leukocyte', 'RedBloodCells',\n",
       "       'Hemoglobin', 'Hematocrit', 'MCV', 'MCH', 'MCHC', 'platelet', 'GOT',\n",
       "       'albumin', 'GPT', 'GammaGPT', 'LDH', 'ALP', 'Bilirubin', 'UreaNitrogen',\n",
       "       'creatinine', 'eGFR', 'HDL', 'NeutralFat', 'LDL', 'TotalProtein',\n",
       "       'AGRatio', 'Amylase', 'UricAcid', 'HBAntigen', 'TPHA', 'CRP',\n",
       "       'HCVAntibody', 'HbA1c', 'BloodSugar', 'FastingBloodSugar',\n",
       "       'bodyFatPercentage', 'Lym', 'TTT', 'RightEyeCorrection', 'Prostate',\n",
       "       'LeftEyeCorrection', 'PatientID', ' Label'],\n",
       "      dtype='object')"
      ]
     },
     "execution_count": 6,
     "metadata": {},
     "output_type": "execute_result"
    }
   ],
   "source": [
    "df.columns"
   ]
  },
  {
   "cell_type": "markdown",
   "metadata": {},
   "source": [
    "### Data Processing"
   ]
  },
  {
   "cell_type": "code",
   "execution_count": 7,
   "metadata": {},
   "outputs": [],
   "source": [
    "#format columns, remove unnecessary column\n",
    "df.columns = df.columns.str.replace(' ', '')\n",
    "df.drop(['Unnamed:0'], axis=1, inplace=True)"
   ]
  },
  {
   "cell_type": "code",
   "execution_count": 8,
   "metadata": {},
   "outputs": [],
   "source": [
    "## drop rows with all Nan values\n",
    "df.dropna(how='all', inplace=True)\n",
    "df.reset_index(drop=True, inplace=True)"
   ]
  },
  {
   "cell_type": "code",
   "execution_count": 9,
   "metadata": {},
   "outputs": [],
   "source": [
    "# only Accepted and Denied categories will be useful for training a model\n",
    "df_model = df[df['Label'].isin(['Accepted', 'Denied'])]\n",
    "df_test = df[df['Label'].isin(['Pending', 'Referred'])]\n",
    "df = df_model.copy()"
   ]
  },
  {
   "cell_type": "code",
   "execution_count": 10,
   "metadata": {},
   "outputs": [
    {
     "name": "stdout",
     "output_type": "stream",
     "text": [
      "FourKHz {0: 'one', 1: 'zero'}\n",
      "OneKHz {0: 'one', 1: 'zero'}\n",
      "UrineProtein {0: 'one', 1: 'zero'}\n",
      "UrineSugar {0: 'one', 1: 'zero'}\n",
      "Urobilinogen {0: 'one', 1: 'zero'}\n",
      "OccultBlood {0: 'one', 1: 'zero'}\n",
      "Ketones {0: 'one', 1: 'zero'}\n",
      "HBAntigen {0: 'one'}\n",
      "TPHA {0: 'one'}\n",
      "HCVAntibody {0: 'one', 1: 'zero'}\n",
      "Label {0: 'Accepted', 1: 'Denied'}\n"
     ]
    }
   ],
   "source": [
    "# assign categorical codes to categorical column values\n",
    "cat_columns = ['FourKHz', 'OneKHz', 'UrineProtein', 'UrineSugar', 'Urobilinogen', 'OccultBlood', 'Ketones', 'HBAntigen',\n",
    "               'TPHA', 'HCVAntibody', 'Label']\n",
    "for col in cat_columns:\n",
    "    df[col] = df[col].astype('category')    \n",
    "    print(col, dict(enumerate(df[col].cat.categories)))\n",
    "    df[col] = df[col].cat.codes"
   ]
  },
  {
   "cell_type": "code",
   "execution_count": 11,
   "metadata": {},
   "outputs": [
    {
     "data": {
      "text/plain": [
       "Height                    79.40\n",
       "Weight                    80.66\n",
       "BMI                       82.39\n",
       "AbdominalCircumference    86.16\n",
       "FourKHz                    0.00\n",
       "OneKHz                     0.00\n",
       "VitalCapacity             94.34\n",
       "BloodPressureSecond       90.72\n",
       "BloodPressureFirst        87.89\n",
       "UrineProtein               0.00\n",
       "UrineSugar                 0.00\n",
       "Urobilinogen               0.00\n",
       "OccultBlood                0.00\n",
       "Ketones                    0.00\n",
       "UrinePH                   87.42\n",
       "Leukocyte                 90.09\n",
       "RedBloodCells             80.82\n",
       "Hemoglobin                79.56\n",
       "Hematocrit                79.40\n",
       "MCV                       87.42\n",
       "MCH                       85.53\n",
       "MCHC                      86.16\n",
       "platelet                  83.81\n",
       "GOT                       61.32\n",
       "albumin                   89.47\n",
       "GPT                       70.28\n",
       "GammaGPT                  65.72\n",
       "LDH                       91.82\n",
       "ALP                       85.85\n",
       "Bilirubin                 86.64\n",
       "UreaNitrogen              94.18\n",
       "creatinine                77.67\n",
       "eGFR                      91.82\n",
       "HDL                       71.38\n",
       "NeutralFat                79.09\n",
       "LDL                       76.10\n",
       "TotalProtein              92.61\n",
       "AGRatio                   94.50\n",
       "Amylase                   94.18\n",
       "UricAcid                  82.86\n",
       "HBAntigen                  0.00\n",
       "TPHA                       0.00\n",
       "CRP                       93.24\n",
       "HCVAntibody                0.00\n",
       "HbA1c                     88.68\n",
       "BloodSugar                85.85\n",
       "FastingBloodSugar         91.67\n",
       "bodyFatPercentage         92.77\n",
       "Lym                       93.08\n",
       "TTT                       94.97\n",
       "RightEyeCorrection        89.78\n",
       "Prostate                  89.15\n",
       "LeftEyeCorrection         89.78\n",
       "PatientID                  0.00\n",
       "Label                      0.00\n",
       "dtype: float64"
      ]
     },
     "execution_count": 11,
     "metadata": {},
     "output_type": "execute_result"
    }
   ],
   "source": [
    "# check missing value percentage for each column\n",
    "df.isnull().mean().round(4)*100"
   ]
  },
  {
   "cell_type": "code",
   "execution_count": 12,
   "metadata": {},
   "outputs": [
    {
     "data": {
      "text/plain": [
       "<matplotlib.axes._subplots.AxesSubplot at 0x7f3f2152a320>"
      ]
     },
     "execution_count": 12,
     "metadata": {},
     "output_type": "execute_result"
    },
    {
     "data": {
      "image/png": "[encoded data removed]",
      "text/plain": [
       "<Figure size 432x288 with 1 Axes>"
      ]
     },
     "metadata": {
      "needs_background": "light"
     },
     "output_type": "display_data"
    }
   ],
   "source": [
    "# heatmap of missing data\n",
    "sns.heatmap(df.isnull(),yticklabels=False,cbar=False,cmap='viridis')"
   ]
  },
  {
   "cell_type": "code",
   "execution_count": 13,
   "metadata": {},
   "outputs": [],
   "source": [
    "# fill any BMI, Height and Weight missing values based on formula\n",
    "df['BMI'] = df.apply(lambda row: round(row['Weight']/((row['Height']/100)*(row['Height']/100)),2) \n",
    "                     if ~np.isnan(row['Height']) and ~np.isnan(row['Weight']) else row['BMI'], axis=1)\n",
    "\n",
    "df['Height'] = df.apply(lambda row: round((math.sqrt(row['Weight']/row['BMI'])*100), 2)\n",
    "                        if np.isnan(row['Height']) else row['Height'], axis=1)\n",
    "    \n",
    "df['Weight'] = df.apply(lambda row: round((((row['Height'] * row['Height'])/10000) *row['BMI']), 2)\n",
    "                        if np.isnan(row['Weight']) else row['Weight'], axis=1)"
   ]
  },
  {
   "cell_type": "code",
   "execution_count": 14,
   "metadata": {},
   "outputs": [],
   "source": [
    "# drop columns with more than 85% missing values\n",
    "# fill the rest with categorical mean values for that column\n",
    "df = df.loc[:, df.isnull().mean() < .85]\n",
    "for col in df.columns:\n",
    "    df[col] = df.groupby('Label')[col].transform(lambda x: x.fillna(x.mean()))"
   ]
  },
  {
   "cell_type": "markdown",
   "metadata": {},
   "source": [
    "### Visualize"
   ]
  },
  {
   "cell_type": "code",
   "execution_count": 15,
   "metadata": {},
   "outputs": [
    {
     "data": {
      "image/png": "[encoded data removed]",
      "text/plain": [
       "<Figure size 1080x720 with 2 Axes>"
      ]
     },
     "metadata": {
      "needs_background": "light"
     },
     "output_type": "display_data"
    }
   ],
   "source": [
    "# visualize correlation matrix\n",
    "corr = df.corr()\n",
    "fig, ax = plt.subplots(figsize=(15, 10))\n",
    "sns.heatmap(corr, ax=ax)\n",
    "plt.show()"
   ]
  },
  {
   "cell_type": "markdown",
   "metadata": {},
   "source": [
    "### Class Imbalance\n",
    "1. Check for class imbalance. \n",
    "    > Classes are imbalanced with 72:28 ratio\n",
    "2. Handle the imbalance using SMOTE (Synthetic Minority Oversampling Technique)"
   ]
  },
  {
   "cell_type": "code",
   "execution_count": 16,
   "metadata": {},
   "outputs": [
    {
     "name": "stdout",
     "output_type": "stream",
     "text": [
      "0.72\n",
      "0.28\n"
     ]
    }
   ],
   "source": [
    "# check for class imbalance\n",
    "accepted = df[df['Label'] == 0]\n",
    "denied = df[df['Label'] == 1]\n",
    "\n",
    "accepted_per = round(len(accepted.Label)/(len(accepted.Label)+len(denied.Label)), 2)\n",
    "denied_per = round(len(denied.Label)/(len(accepted.Label)+len(denied.Label)), 2)\n",
    "\n",
    "print(accepted_per)\n",
    "print(denied_per)"
   ]
  },
  {
   "cell_type": "code",
   "execution_count": 17,
   "metadata": {},
   "outputs": [
    {
     "name": "stdout",
     "output_type": "stream",
     "text": [
      "Length of oversampled data:  652\n",
      "No. of acceptance:  326\n",
      "No. of denials:  326\n",
      "Acceptance % in oversampled data:  0.5\n",
      "Denial % in oversampled data:  0.5\n"
     ]
    }
   ],
   "source": [
    "# correct class imbalance using SMOTE technique\n",
    "X = df.loc[:, df.columns != 'Label']\n",
    "y = df.loc[:, df.columns == 'Label']\n",
    "\n",
    "os = SMOTE(random_state=0)\n",
    "X_train, X_test, y_train, y_test = train_test_split(X, y, test_size=0.3, random_state=0)\n",
    "columns = X_train.columns\n",
    "os_data_X,os_data_y=os.fit_sample(X_train, y_train)\n",
    "os_data_X = pd.DataFrame(data=os_data_X,columns=columns )\n",
    "os_data_y= pd.DataFrame(data=os_data_y,columns=['Label'])\n",
    "# we can Check the numbers of our data\n",
    "print(\"Length of oversampled data: \",len(os_data_X))\n",
    "print(\"No. of acceptance: \",len(os_data_y[os_data_y['Label']==0]))\n",
    "print(\"No. of denials: \",len(os_data_y[os_data_y['Label']==1]))\n",
    "print(\"Acceptance % in oversampled data: \",len(os_data_y[os_data_y['Label']==0])/len(os_data_X))\n",
    "print(\"Denial % in oversampled data: \",len(os_data_y[os_data_y['Label']==1])/len(os_data_X))"
   ]
  },
  {
   "cell_type": "markdown",
   "metadata": {},
   "source": [
    "### Feature selection"
   ]
  },
  {
   "cell_type": "code",
   "execution_count": 18,
   "metadata": {},
   "outputs": [],
   "source": [
    "# correlation based feature selection\n",
    "corr = df.corr()\n",
    "columns = np.full((corr.shape[0],), True, dtype=bool)\n",
    "for i in range(corr.shape[0]):\n",
    "    for j in range(i+1, corr.shape[0]):\n",
    "        if corr.iloc[i,j] >= 0.9:\n",
    "            if columns[j]:\n",
    "                columns[j] = False\n",
    "selected_columns = df.columns[columns]\n",
    "\n",
    "df = df[selected_columns]"
   ]
  },
  {
   "cell_type": "code",
   "execution_count": 19,
   "metadata": {},
   "outputs": [
    {
     "name": "stdout",
     "output_type": "stream",
     "text": [
      "Selected features:\n",
      "Index(['Weight', 'BMI', 'FourKHz', 'UrineProtein', 'Urobilinogen',\n",
      "       'OccultBlood', 'Ketones', 'Hemoglobin', 'creatinine', 'UricAcid',\n",
      "       'HBAntigen', 'TPHA', 'HCVAntibody'],\n",
      "      dtype='object')\n"
     ]
    }
   ],
   "source": [
    "# Recursive feature elimination\n",
    "\n",
    "df_vars=df.columns.values.tolist()\n",
    "y=['Label']\n",
    "X=[i for i in df_vars if i not in y]\n",
    "\n",
    "logreg = LogisticRegression()\n",
    "rfe = RFE(logreg,13)\n",
    "rfe = rfe.fit(os_data_X, os_data_y.values.ravel())\n",
    "# print(rfe.support_)\n",
    "# print(rfe.ranking_)\n",
    "\n",
    "keep_col = df.columns[:-1][rfe.support_ == True]\n",
    "print(\"Selected features:\")\n",
    "print(keep_col)"
   ]
  },
  {
   "cell_type": "markdown",
   "metadata": {},
   "source": [
    "### Model"
   ]
  },
  {
   "cell_type": "code",
   "execution_count": 20,
   "metadata": {},
   "outputs": [
    {
     "name": "stdout",
     "output_type": "stream",
     "text": [
      "Optimization terminated successfully.\n",
      "         Current function value: 0.240592\n",
      "         Iterations 8\n",
      "                          Results: Logit\n",
      "==================================================================\n",
      "Model:              Logit            Pseudo R-squared: 0.653      \n",
      "Dependent Variable: Label            AIC:              339.7317   \n",
      "Date:               2019-10-18 00:00 BIC:              397.9723   \n",
      "No. Observations:   652              Log-Likelihood:   -156.87    \n",
      "Df Model:           12               LL-Null:          -451.93    \n",
      "Df Residuals:       639              LLR p-value:      1.3559e-118\n",
      "Converged:          1.0000           Scale:            1.0000     \n",
      "No. Iterations:     8.0000                                        \n",
      "-------------------------------------------------------------------\n",
      "               Coef.   Std.Err.     z      P>|z|    [0.025   0.975]\n",
      "-------------------------------------------------------------------\n",
      "Weight         0.4049    0.0289   14.0269  0.0000   0.3483   0.4615\n",
      "BMI           -1.0006    0.0789  -12.6858  0.0000  -1.1552  -0.8460\n",
      "FourKHz        0.8840    0.2359    3.7474  0.0002   0.4217   1.3464\n",
      "UrineProtein  -0.8607    0.3693   -2.3310  0.0198  -1.5845  -0.1370\n",
      "Urobilinogen  -1.7989    0.3761   -4.7832  0.0000  -2.5360  -1.0618\n",
      "OccultBlood   -0.3136    0.3034   -1.0336  0.3013  -0.9082   0.2811\n",
      "Ketones       -0.4053    0.6559   -0.6179  0.5367  -1.6908   0.8803\n",
      "Hemoglobin    -0.1551    0.0872   -1.7781  0.0754  -0.3261   0.0159\n",
      "creatinine    -3.5798    1.3687   -2.6155  0.0089  -6.2624  -0.8973\n",
      "UricAcid      -0.0841    0.1333   -0.6307  0.5282  -0.3453   0.1772\n",
      "HBAntigen     -0.9448    0.6546   -1.4434  0.1489  -2.2277   0.3382\n",
      "TPHA           3.1237    0.7259    4.3032  0.0000   1.7010   4.5465\n",
      "HCVAntibody    0.1524    0.6186    0.2464  0.8054  -1.0600   1.3648\n",
      "==================================================================\n",
      "\n"
     ]
    }
   ],
   "source": [
    "## Logistic regression model\n",
    "X=os_data_X[keep_col]\n",
    "y=os_data_y['Label']\n",
    "\n",
    "import statsmodels.api as sm\n",
    "logit_model=sm.Logit(y,X)\n",
    "result=logit_model.fit()\n",
    "print(result.summary2())"
   ]
  },
  {
   "cell_type": "code",
   "execution_count": 21,
   "metadata": {},
   "outputs": [
    {
     "name": "stdout",
     "output_type": "stream",
     "text": [
      "Optimization terminated successfully.\n",
      "         Current function value: 0.244425\n",
      "         Iterations 8\n",
      "                          Results: Logit\n",
      "==================================================================\n",
      "Model:              Logit            Pseudo R-squared: 0.647      \n",
      "Dependent Variable: Label            AIC:              334.7298   \n",
      "Date:               2019-10-18 00:00 BIC:              370.5702   \n",
      "No. Observations:   652              Log-Likelihood:   -159.36    \n",
      "Df Model:           7                LL-Null:          -451.93    \n",
      "Df Residuals:       644              LLR p-value:      3.8676e-122\n",
      "Converged:          1.0000           Scale:            1.0000     \n",
      "No. Iterations:     8.0000                                        \n",
      "-------------------------------------------------------------------\n",
      "               Coef.   Std.Err.     z      P>|z|    [0.025   0.975]\n",
      "-------------------------------------------------------------------\n",
      "Weight         0.4062    0.0283   14.3502  0.0000   0.3507   0.4617\n",
      "BMI           -1.0035    0.0742  -13.5312  0.0000  -1.1488  -0.8581\n",
      "FourKHz        0.7688    0.2231    3.4457  0.0006   0.3315   1.2061\n",
      "UrineProtein  -0.9727    0.3526   -2.7590  0.0058  -1.6638  -0.2817\n",
      "Urobilinogen  -1.9010    0.3580   -5.3099  0.0000  -2.6026  -1.1993\n",
      "Hemoglobin    -0.1424    0.0796   -1.7903  0.0734  -0.2983   0.0135\n",
      "creatinine    -3.4660    1.2827   -2.7021  0.0069  -5.9802  -0.9519\n",
      "TPHA           2.7007    0.6253    4.3190  0.0000   1.4751   3.9263\n",
      "==================================================================\n",
      "\n"
     ]
    }
   ],
   "source": [
    "# p-value based feature elimination\n",
    "# eliminate any features with <= 0.08 p-value\n",
    "col = result.pvalues[:].astype(float) <= 0.08\n",
    "keep_col = col.index[col.values == True].tolist()\n",
    "\n",
    "X=os_data_X[keep_col]\n",
    "y=os_data_y['Label']\n",
    "\n",
    "import statsmodels.api as sm\n",
    "logit_model=sm.Logit(y,X)\n",
    "result=logit_model.fit()\n",
    "print(result.summary2())"
   ]
  },
  {
   "cell_type": "code",
   "execution_count": 22,
   "metadata": {},
   "outputs": [
    {
     "data": {
      "text/plain": [
       "LogisticRegression(C=1.0, class_weight=None, dual=False, fit_intercept=True,\n",
       "                   intercept_scaling=1, l1_ratio=None, max_iter=100,\n",
       "                   multi_class='warn', n_jobs=None, penalty='l2',\n",
       "                   random_state=None, solver='warn', tol=0.0001, verbose=0,\n",
       "                   warm_start=False)"
      ]
     },
     "execution_count": 22,
     "metadata": {},
     "output_type": "execute_result"
    }
   ],
   "source": [
    "X_train, X_test, y_train, y_test = train_test_split(X, y, test_size=0.2, random_state=0)\n",
    "logreg = LogisticRegression()\n",
    "logreg.fit(X_train, y_train)"
   ]
  },
  {
   "cell_type": "markdown",
   "metadata": {},
   "source": [
    "### Model Performance\n",
    "1. Model Accuracy\n",
    "2. Confusion Matrix\n",
    "3. Model Report\n",
    "4. ROC curve"
   ]
  },
  {
   "cell_type": "markdown",
   "metadata": {},
   "source": [
    "#### Model Accuracy"
   ]
  },
  {
   "cell_type": "code",
   "execution_count": 23,
   "metadata": {},
   "outputs": [
    {
     "name": "stdout",
     "output_type": "stream",
     "text": [
      "Accuracy of logistic regression classifier on test set: 0.93\n"
     ]
    }
   ],
   "source": [
    "# make predictions and get model accurancy\n",
    "y_pred = logreg.predict(X_test)\n",
    "print('Accuracy of logistic regression classifier on test set: {:.2f}'.format(logreg.score(X_test, y_test)))"
   ]
  },
  {
   "cell_type": "markdown",
   "metadata": {},
   "source": [
    "#### Confusion Matrix"
   ]
  },
  {
   "cell_type": "code",
   "execution_count": 24,
   "metadata": {},
   "outputs": [
    {
     "name": "stdout",
     "output_type": "stream",
     "text": [
      "[[57  5]\n",
      " [ 4 65]]\n"
     ]
    }
   ],
   "source": [
    "# get confusion matrix for the model\n",
    "confusion_matrix = confusion_matrix(y_test, y_pred)\n",
    "print(confusion_matrix)"
   ]
  },
  {
   "cell_type": "markdown",
   "metadata": {},
   "source": [
    "#### Model Report"
   ]
  },
  {
   "cell_type": "code",
   "execution_count": 27,
   "metadata": {},
   "outputs": [
    {
     "name": "stdout",
     "output_type": "stream",
     "text": [
      "              precision    recall  f1-score   support\n",
      "\n",
      "           0       0.93      0.92      0.93        62\n",
      "           1       0.93      0.94      0.94        69\n",
      "\n",
      "    accuracy                           0.93       131\n",
      "   macro avg       0.93      0.93      0.93       131\n",
      "weighted avg       0.93      0.93      0.93       131\n",
      "\n",
      "Accuracy:  0.9312977099236641\n",
      "Precision:  0.9285714285714286\n",
      "Recall:  0.9420289855072463\n"
     ]
    }
   ],
   "source": [
    "# get model report\n",
    "print(classification_report(y_test, y_pred))\n",
    "print(\"Accuracy: \", metrics.accuracy_score(y_test, y_pred))\n",
    "print(\"Precision: \", metrics.precision_score(y_test, y_pred))\n",
    "print(\"Recall: \", metrics.recall_score(y_test, y_pred))"
   ]
  },
  {
   "cell_type": "markdown",
   "metadata": {},
   "source": [
    "#### ROC Curve"
   ]
  },
  {
   "cell_type": "code",
   "execution_count": 28,
   "metadata": {},
   "outputs": [
    {
     "data": {
      "image/png": "[encoded data removed]",
      "text/plain": [
       "<Figure size 432x288 with 1 Axes>"
      ]
     },
     "metadata": {
      "needs_background": "light"
     },
     "output_type": "display_data"
    }
   ],
   "source": [
    "logit_roc_auc = roc_auc_score(y_test, logreg.predict(X_test))\n",
    "fpr, tpr, thresholds = roc_curve(y_test, logreg.predict_proba(X_test)[:,1])\n",
    "plt.figure()\n",
    "plt.plot(fpr, tpr, label='Logistic Regression (area = %0.2f)' % logit_roc_auc)\n",
    "plt.plot([0, 1], [0, 1],'r--')\n",
    "plt.xlim([0.0, 1.0])\n",
    "plt.ylim([0.0, 1.05])\n",
    "plt.xlabel('False Positive Rate')\n",
    "plt.ylabel('True Positive Rate')\n",
    "plt.title('Receiver operating characteristic')\n",
    "plt.legend(loc=\"lower right\")\n",
    "plt.savefig('Log_ROC_new_1')\n",
    "plt.show()"
   ]
  },
  {
   "cell_type": "markdown",
   "metadata": {},
   "source": [
    "### Feature Importance\n",
    "    Most important feature in the model: TPHA\n",
    "    Least important feature in the model: Hemoglobin"
   ]
  },
  {
   "cell_type": "code",
   "execution_count": 29,
   "metadata": {},
   "outputs": [
    {
     "name": "stdout",
     "output_type": "stream",
     "text": [
      "[[ 0.37379753 -0.94708869  0.76420078 -0.35299587 -1.58886259 -0.24198388\n",
      "  -1.87079357  1.95504655]]\n"
     ]
    },
    {
     "data": {
      "image/png": "[encoded data removed]",
      "text/plain": [
       "<Figure size 432x288 with 1 Axes>"
      ]
     },
     "metadata": {
      "needs_background": "light"
     },
     "output_type": "display_data"
    }
   ],
   "source": [
    "# visualize feature importance\n",
    "print(logreg.coef_)\n",
    "\n",
    "feature_importance = abs(logreg.coef_[0])\n",
    "feature_importance = 100.0 * (feature_importance / feature_importance.max())\n",
    "sorted_idx = np.argsort(feature_importance)\n",
    "pos = np.arange(sorted_idx.shape[0]) + .5\n",
    "\n",
    "fig = plt.figure()\n",
    "ax = fig.add_subplot(1, 1, 1)\n",
    "ax.barh(pos, feature_importance[sorted_idx], align='center')\n",
    "ax.set_yticks(pos)\n",
    "ax.set_yticklabels(np.array(X.columns)[sorted_idx], fontsize=10)\n",
    "ax.set_xlabel('Relative Feature Importance')\n",
    "\n",
    "plt.tight_layout()   \n",
    "plt.show()"
   ]
  },
  {
   "cell_type": "markdown",
   "metadata": {},
   "source": [
    "### Report"
   ]
  },
  {
   "cell_type": "markdown",
   "metadata": {},
   "source": [
    "**Approach:**\n",
    "> Since We're trying to predict whether a particular patient's application should be accepted or not,  this is a binary classification problem. I took the logistic regression approach as it is simple yet effective with such tasks thus making it a good place to start\n",
    "    \n",
    "**Methodology:**\n",
    "> Below are the steps I took through the task:\n",
    " - Understand the data through descriptive statistics summary as well as variable correlation\n",
    " - Data cleaning/ processing by:\n",
    "  - Formatting data to get the data in the required format.\n",
    "   - Checking for missing, invalid, duplicate and extreme outlier values\n",
    " - Check for class imbalance\n",
    " - Perform feature selection using correlation matrix and recursive feature elimination\n",
    " - Build a logistic regression model and improve its performance using p-value based feature elimination\n",
    " - Use various techniques to measure model's performance such as model accuracy,confusion matrix, model report and ROC curve\n",
    " - Reiterate missing value replacement and feature selection to improve model's performance\n",
    "    \n",
    "  \n",
    "**Implementation:**\n",
    "> Data processing is done using Pandas <br>\n",
    "Visualization is mainly done using seaborn and matplotlib <br>\n",
    "Scikit-learn is used to implement the logistic regression\n",
    "  - Handling missing values:\n",
    "    - Effective missing value replacement and feature selection through various techniques was essential to improve model's   performance since most of the values in the dataset were missing and there was low correlation between the target variable and features.\n",
    "    - Any features with more than 85% missing values were dropped and for rest of the features, missing values were replaced by categorical mean values of the respective features.\n",
    "  - Handling incorrect/ inconsistent data:\n",
    "    - There was some inconsistency between 'BMI' column values and those calculated with a formula using respective 'Height' and 'Weight' column values for the same patient. Assuming 'Height' and 'Weight' values were correct, those 'BMI' values were replaced during data processing\n",
    "  - Handling class imbalance:\n",
    "    - The two classes required for the model were significantly imbalanced. The imbalance was handled by oversampling the data using SMOTE technique\n",
    "  - Handling feature selection:\n",
    "    - Any features with high correlation were dropped as a part of feature elimination followed by recursive feature elimination.\n",
    "    - In the next step, p-value based feature elimination was used to further narrow down the no of features used.\n",
    "\n",
    "**Results:**\n",
    "> Accuracy:\n",
    "  The model gave 93% accuracy which gives us the overall correctness of the classifier. 93 out of 100 times the classifier is correct\n",
    " \n",
    "> Model Report:\n",
    " - Recall:\n",
    "    This tells us when the application is actually accepted, how often the model predicts the same\n",
    " - Precision:\n",
    "    This tells us when it predicts accepted, how often it is correct\n",
    "\n",
    "> Confusion Matrix: \n",
    " - The classifier made total of 131 predictions. Out of those the classifier predicted \"accepted\" 70 times and \"denied\" 61 times. \n",
    "  - In reality, 69 times the application was accepted and 62 times it was denied\n",
    "  - The matrix gives us an accuracy of 122/131\n",
    "\n",
    "\n",
    "\n",
    "**Follow-up questions:**\n",
    "> If external data is available, what would you add, and how would it improve your predictions?\n",
    "  Exernal data that could be useful for better predictions can be:\n",
    "   - Patient's credit card information:\n",
    "      - This could be used to gain insights about patient's physical as well as mental health condition, his/her food habits and lifestyle choices. All these things can be used to get a better understanding of person's wellbeing.\n",
    "      - It will also give insight on patient's financial status thus providing more information to make more accurate predictions about his/her likelihood of making an insurance claim as well as ability to make the payments on time\n",
    "   \n",
    "> In your report, please discuss the business value of your results. How would you sell your analysis to the insurance company? Does it align with what the company wants to achieve?<br><br>\n",
    "  The results can be used for multiple use cases by the business\n",
    "   - Risk Assessment:\n",
    "     - The results can be used to identify profitable operations for the business and reduce loss\n",
    "     - The model can be used to identify any false positive or false negative application decisions previously made by the business that eventually turned out to be a loss for the business\n",
    "     - The company wants to provide health insurance for its clients without going into loss. The results can greatly help business make more informed decisions on the applications\n",
    "     - The analysis can be sold to the insurance company by using model predictions and previous business decisions to show the possibitlity of profit gain or loss reduction for them\n",
    "   - Marketing Statergy:\n",
    "     - The results can be used to identify patterns between the kind of customer applications company receives\n",
    "     - By knowing more about what kind of customers they do/ don't attract, the business will be able to come up with better marketing strategy to gain customers"
   ]
  },
  {
   "cell_type": "code",
   "execution_count": null,
   "metadata": {},
   "outputs": [],
   "source": []
  }
 ],
 "metadata": {
  "kernelspec": {
   "display_name": "Python 3",
   "language": "python",
   "name": "python3"
  },
  "language_info": {
   "codemirror_mode": {
    "name": "ipython",
    "version": 3
   },
   "file_extension": ".py",
   "mimetype": "text/x-python",
   "name": "python",
   "nbconvert_exporter": "python",
   "pygments_lexer": "ipython3",
   "version": "3.7.3"
  }
 },
 "nbformat": 4,
 "nbformat_minor": 2
}
